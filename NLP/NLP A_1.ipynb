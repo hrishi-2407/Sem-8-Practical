{
 "cells": [
  {
   "cell_type": "code",
   "execution_count": 16,
   "id": "80e2c164-756b-4a55-b339-2ef6be524e9d",
   "metadata": {},
   "outputs": [],
   "source": [
    "# Importing Libraries\n",
    "\n",
    "import nltk\n",
    "from nltk.tokenize import word_tokenize, TweetTokenizer\n",
    "from nltk.tokenize.treebank import TreebankWordTokenizer\n",
    "from nltk.tokenize import MWETokenizer\n",
    "from nltk.stem import PorterStemmer, SnowballStemmer\n",
    "from nltk.stem import WordNetLemmatizer\n",
    "from nltk.corpus import stopwords"
   ]
  },
  {
   "cell_type": "code",
   "execution_count": 17,
   "id": "efa3c352-b6fe-4f9b-8170-7527a4e03290",
   "metadata": {},
   "outputs": [
    {
     "name": "stderr",
     "output_type": "stream",
     "text": [
      "[nltk_data] Downloading package punkt to\n",
      "[nltk_data]     C:\\Users\\hrish\\AppData\\Roaming\\nltk_data...\n",
      "[nltk_data]   Package punkt is already up-to-date!\n",
      "[nltk_data] Downloading package wordnet to\n",
      "[nltk_data]     C:\\Users\\hrish\\AppData\\Roaming\\nltk_data...\n",
      "[nltk_data]   Package wordnet is already up-to-date!\n",
      "[nltk_data] Downloading package stopwords to\n",
      "[nltk_data]     C:\\Users\\hrish\\AppData\\Roaming\\nltk_data...\n",
      "[nltk_data]   Package stopwords is already up-to-date!\n"
     ]
    },
    {
     "data": {
      "text/plain": [
       "True"
      ]
     },
     "execution_count": 17,
     "metadata": {},
     "output_type": "execute_result"
    }
   ],
   "source": [
    "# Downloading the required datasets and models for tokenization, lemmatization, and other NLP tasks\n",
    "nltk.download('punkt')\n",
    "nltk.download('wordnet')\n",
    "nltk.download('stopwords')"
   ]
  },
  {
   "cell_type": "code",
   "execution_count": 18,
   "id": "2003b06e-5a96-4776-ae1f-e5b58a6abce1",
   "metadata": {},
   "outputs": [],
   "source": [
    "# Sample sentence\n",
    "sample_sentence = \"NLTK is a leading platform for building Python programs to work with human language data.\""
   ]
  },
  {
   "cell_type": "markdown",
   "id": "353a9b13-93b2-427d-8aa7-9aa928d7348d",
   "metadata": {},
   "source": [
    "### Tokenization"
   ]
  },
  {
   "cell_type": "code",
   "execution_count": 19,
   "id": "291044a3-de99-4762-9dcb-e96a1ffd23d2",
   "metadata": {},
   "outputs": [],
   "source": [
    "# Whitespace tokenizer\n",
    "whitespace_tokens = sample_sentence.split()"
   ]
  },
  {
   "cell_type": "code",
   "execution_count": 20,
   "id": "1265adc7-2379-46a4-a137-f563eb945dd0",
   "metadata": {},
   "outputs": [],
   "source": [
    "# Punctuation-based tokenizer\n",
    "punct_tokenizer = nltk.RegexpTokenizer(r'\\w+')\n",
    "punct_tokens = punct_tokenizer.tokenize(sample_sentence)"
   ]
  },
  {
   "cell_type": "code",
   "execution_count": 21,
   "id": "5e7a03ae-86c7-44f1-af97-dcef1fa5ae84",
   "metadata": {},
   "outputs": [],
   "source": [
    "# Treebank tokenizer\n",
    "treebank_tokenizer = TreebankWordTokenizer()\n",
    "treebank_tokens = treebank_tokenizer.tokenize(sample_sentence)"
   ]
  },
  {
   "cell_type": "code",
   "execution_count": 22,
   "id": "725c7557-040c-426f-b22f-8854194c3f53",
   "metadata": {},
   "outputs": [],
   "source": [
    "# Tweet tokenizer\n",
    "tweet_tokenizer = TweetTokenizer()\n",
    "tweet_tokens = tweet_tokenizer.tokenize(sample_sentence)"
   ]
  },
  {
   "cell_type": "code",
   "execution_count": 23,
   "id": "8c0e0f20-de6d-4711-9893-1bc0076b64c8",
   "metadata": {},
   "outputs": [],
   "source": [
    "# MWE tokenizer\n",
    "mwe_tokenizer = MWETokenizer([('Python', 'programs')])\n",
    "mwe_tokens = mwe_tokenizer.tokenize(sample_sentence.split())"
   ]
  },
  {
   "cell_type": "markdown",
   "id": "33e01452-a0da-410b-9d84-35b215a3aa14",
   "metadata": {},
   "source": [
    "### Stemming"
   ]
  },
  {
   "cell_type": "code",
   "execution_count": 24,
   "id": "d97dc3fb-d93e-4be8-8235-3d25d254f443",
   "metadata": {},
   "outputs": [],
   "source": [
    "# Porter Stemmer\n",
    "porter_stemmer = PorterStemmer()\n",
    "porter_stems = [porter_stemmer.stem(token) for token in punct_tokens]"
   ]
  },
  {
   "cell_type": "code",
   "execution_count": 25,
   "id": "116040d2-62bd-44db-9925-a31c8f09e7a1",
   "metadata": {},
   "outputs": [],
   "source": [
    "# Snowball Stemmer\n",
    "snowball_stemmer = SnowballStemmer('english')\n",
    "snowball_stems = [snowball_stemmer.stem(token) for token in punct_tokens]"
   ]
  },
  {
   "cell_type": "markdown",
   "id": "86704829-3cf7-48d4-90e5-970f058c2e43",
   "metadata": {},
   "source": [
    "### Lemmatization"
   ]
  },
  {
   "cell_type": "code",
   "execution_count": 26,
   "id": "3028c78d-f7c3-4dce-9c25-18ff05328a8b",
   "metadata": {},
   "outputs": [],
   "source": [
    "wordnet_lemmatizer = WordNetLemmatizer()\n",
    "lemmas = [wordnet_lemmatizer.lemmatize(token) for token in punct_tokens]"
   ]
  },
  {
   "cell_type": "markdown",
   "id": "83fa8062-3a4a-4b63-b4eb-3507cafcdab6",
   "metadata": {},
   "source": [
    "### Print the Results"
   ]
  },
  {
   "cell_type": "code",
   "execution_count": 27,
   "id": "0081f89f-c910-4e1b-8275-7f57eb475fea",
   "metadata": {},
   "outputs": [
    {
     "name": "stdout",
     "output_type": "stream",
     "text": [
      "Original Sentence: NLTK is a leading platform for building Python programs to work with human language data.\n",
      "\n",
      "Tokenization Results:\n",
      "Whitespace Tokenizer: ['NLTK', 'is', 'a', 'leading', 'platform', 'for', 'building', 'Python', 'programs', 'to', 'work', 'with', 'human', 'language', 'data.']\n",
      "Punctuation-based Tokenizer: ['NLTK', 'is', 'a', 'leading', 'platform', 'for', 'building', 'Python', 'programs', 'to', 'work', 'with', 'human', 'language', 'data']\n",
      "Treebank Tokenizer: ['NLTK', 'is', 'a', 'leading', 'platform', 'for', 'building', 'Python', 'programs', 'to', 'work', 'with', 'human', 'language', 'data', '.']\n",
      "Tweet Tokenizer: ['NLTK', 'is', 'a', 'leading', 'platform', 'for', 'building', 'Python', 'programs', 'to', 'work', 'with', 'human', 'language', 'data', '.']\n",
      "MWE Tokenizer: ['NLTK', 'is', 'a', 'leading', 'platform', 'for', 'building', 'Python_programs', 'to', 'work', 'with', 'human', 'language', 'data.']\n",
      "\n",
      "Stemming Results:\n",
      "Porter Stemmer: ['nltk', 'is', 'a', 'lead', 'platform', 'for', 'build', 'python', 'program', 'to', 'work', 'with', 'human', 'languag', 'data']\n",
      "Snowball Stemmer: ['nltk', 'is', 'a', 'lead', 'platform', 'for', 'build', 'python', 'program', 'to', 'work', 'with', 'human', 'languag', 'data']\n",
      "\n",
      "Lemmatization Results:\n",
      "WordNet Lemmatizer: ['NLTK', 'is', 'a', 'leading', 'platform', 'for', 'building', 'Python', 'program', 'to', 'work', 'with', 'human', 'language', 'data']\n"
     ]
    }
   ],
   "source": [
    "print(\"Original Sentence:\", sample_sentence)\n",
    "print(\"\\nTokenization Results:\")\n",
    "print(\"Whitespace Tokenizer:\", whitespace_tokens)\n",
    "print(\"Punctuation-based Tokenizer:\", punct_tokens)\n",
    "print(\"Treebank Tokenizer:\", treebank_tokens)\n",
    "print(\"Tweet Tokenizer:\", tweet_tokens)\n",
    "print(\"MWE Tokenizer:\", mwe_tokens)\n",
    "print(\"\\nStemming Results:\")\n",
    "print(\"Porter Stemmer:\", porter_stems)\n",
    "print(\"Snowball Stemmer:\", snowball_stems)\n",
    "print(\"\\nLemmatization Results:\")\n",
    "print(\"WordNet Lemmatizer:\", lemmas)"
   ]
  },
  {
   "cell_type": "markdown",
   "id": "77365dbe-bcb2-42bc-8108-dc73756ed455",
   "metadata": {},
   "source": [
    "### ---------------------------"
   ]
  },
  {
   "cell_type": "code",
   "execution_count": 28,
   "id": "71a5dbdf-6ce7-46b6-87c3-bf41ac82f39c",
   "metadata": {},
   "outputs": [
    {
     "name": "stdout",
     "output_type": "stream",
     "text": [
      "Performed by: Hrishikesh Bari || Roll No: 68\n"
     ]
    }
   ],
   "source": [
    "print(\"Performed by: Hrishikesh Bari || Roll No: 68\")"
   ]
  },
  {
   "cell_type": "code",
   "execution_count": null,
   "id": "892270f6-de13-4eeb-a363-b5b12efb090f",
   "metadata": {},
   "outputs": [],
   "source": []
  }
 ],
 "metadata": {
  "kernelspec": {
   "display_name": "Python 3 (ipykernel)",
   "language": "python",
   "name": "python3"
  },
  "language_info": {
   "codemirror_mode": {
    "name": "ipython",
    "version": 3
   },
   "file_extension": ".py",
   "mimetype": "text/x-python",
   "name": "python",
   "nbconvert_exporter": "python",
   "pygments_lexer": "ipython3",
   "version": "3.11.4"
  }
 },
 "nbformat": 4,
 "nbformat_minor": 5
}
