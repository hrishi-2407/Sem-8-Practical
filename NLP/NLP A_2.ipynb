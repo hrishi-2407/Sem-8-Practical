{
 "cells": [
  {
   "cell_type": "code",
   "execution_count": 1,
   "id": "780552fb-b312-4c37-99c3-121978ed87e4",
   "metadata": {},
   "outputs": [],
   "source": [
    "# Importing libraries\n",
    "import pandas as pd\n",
    "import numpy as np\n",
    "import warnings\n",
    "from nltk.tokenize import word_tokenize\n",
    "from nltk.corpus import stopwords\n",
    "from nltk.stem import PorterStemmer\n",
    "from nltk.tokenize import sent_tokenize, word_tokenize\n",
    "from sklearn.feature_extraction.text import CountVectorizer, TfidfVectorizer\n",
    "from sklearn.pipeline import Pipeline\n",
    "from sklearn.feature_extraction.text import CountVectorizer, TfidfVectorizer\n",
    "\n",
    "import gensim\n",
    "from gensim.models import Word2Vec"
   ]
  },
  {
   "cell_type": "code",
   "execution_count": 2,
   "id": "255bd1f1-2275-40ba-809e-c6770a319c4e",
   "metadata": {},
   "outputs": [],
   "source": [
    "# Suppress warnings\n",
    "warnings.filterwarnings(action='ignore')"
   ]
  },
  {
   "cell_type": "code",
   "execution_count": 3,
   "id": "cc045d9d-a251-44cf-ac5b-97d3d498078c",
   "metadata": {},
   "outputs": [],
   "source": [
    "# Load car data\n",
    "train_raw_df = pd.read_csv(r\"C:\\Users\\hrish\\OneDrive\\Desktop\\cardataset.csv\")"
   ]
  },
  {
   "cell_type": "code",
   "execution_count": 4,
   "id": "657cf13b-0b46-4a4e-a729-57aac3e469b2",
   "metadata": {},
   "outputs": [
    {
     "name": "stdout",
     "output_type": "stream",
     "text": [
      "<class 'pandas.core.frame.DataFrame'>\n",
      "RangeIndex: 11914 entries, 0 to 11913\n",
      "Data columns (total 16 columns):\n",
      " #   Column             Non-Null Count  Dtype  \n",
      "---  ------             --------------  -----  \n",
      " 0   Make               11914 non-null  object \n",
      " 1   Model              11914 non-null  object \n",
      " 2   Year               11914 non-null  int64  \n",
      " 3   Engine Fuel Type   11911 non-null  object \n",
      " 4   Engine HP          11845 non-null  float64\n",
      " 5   Engine Cylinders   11884 non-null  float64\n",
      " 6   Transmission Type  11914 non-null  object \n",
      " 7   Driven_Wheels      11914 non-null  object \n",
      " 8   Number of Doors    11908 non-null  float64\n",
      " 9   Market Category    8172 non-null   object \n",
      " 10  Vehicle Size       11914 non-null  object \n",
      " 11  Vehicle Style      11914 non-null  object \n",
      " 12  highway MPG        11914 non-null  int64  \n",
      " 13  city mpg           11914 non-null  int64  \n",
      " 14  Popularity         11914 non-null  int64  \n",
      " 15  MSRP               11914 non-null  int64  \n",
      "dtypes: float64(3), int64(5), object(8)\n",
      "memory usage: 1.5+ MB\n"
     ]
    }
   ],
   "source": [
    "train_raw_df.info()"
   ]
  },
  {
   "cell_type": "markdown",
   "id": "8321bfa4-2477-4fc2-b9cf-5e9c21d70135",
   "metadata": {},
   "source": [
    "### Preprocessing"
   ]
  },
  {
   "cell_type": "code",
   "execution_count": 5,
   "id": "56ae8053-95d8-4f0d-bdaa-8e7ad22ab529",
   "metadata": {},
   "outputs": [],
   "source": [
    "# Drop null values and create a new column combining multiple columns\n",
    "train_raw_df.dropna(inplace=True)\n",
    "train_raw_df.reset_index(drop=True, inplace=True)\n",
    "train_raw_df[\"train_text\"] = train_raw_df[['Market Category', 'Vehicle Size', 'Vehicle Style']].apply(' '.join, axis=1)"
   ]
  },
  {
   "cell_type": "code",
   "execution_count": 6,
   "id": "1ef50e22-20ce-4d67-9a28-65dd21bbbc47",
   "metadata": {},
   "outputs": [],
   "source": [
    "x_train = train_raw_df[\"train_text\"]\n",
    "y_train = train_raw_df.MSRP"
   ]
  },
  {
   "cell_type": "code",
   "execution_count": 7,
   "id": "372bb9a0-6306-4ed7-a817-8a1c5a6ecf3c",
   "metadata": {},
   "outputs": [],
   "source": [
    "# Remove stopwords, and perform stemming\n",
    "stop_words = set(stopwords.words('english'))\n",
    "ps = PorterStemmer()"
   ]
  },
  {
   "cell_type": "code",
   "execution_count": 8,
   "id": "0a6d5eb4-f0a6-47a0-bb8f-6737b6b06639",
   "metadata": {},
   "outputs": [],
   "source": [
    "doc = \" \".join(x_train)"
   ]
  },
  {
   "cell_type": "code",
   "execution_count": 9,
   "id": "bbdeb2d3-030c-48ed-a4f4-9afb2f87604e",
   "metadata": {},
   "outputs": [
    {
     "data": {
      "text/html": [
       "<div>\n",
       "<style scoped>\n",
       "    .dataframe tbody tr th:only-of-type {\n",
       "        vertical-align: middle;\n",
       "    }\n",
       "\n",
       "    .dataframe tbody tr th {\n",
       "        vertical-align: top;\n",
       "    }\n",
       "\n",
       "    .dataframe thead th {\n",
       "        text-align: right;\n",
       "    }\n",
       "</style>\n",
       "<table border=\"1\" class=\"dataframe\">\n",
       "  <thead>\n",
       "    <tr style=\"text-align: right;\">\n",
       "      <th></th>\n",
       "      <th>Word</th>\n",
       "      <th>Count</th>\n",
       "    </tr>\n",
       "  </thead>\n",
       "  <tbody>\n",
       "    <tr>\n",
       "      <th>23</th>\n",
       "      <td>performance</td>\n",
       "      <td>3456</td>\n",
       "    </tr>\n",
       "    <tr>\n",
       "      <th>19</th>\n",
       "      <td>luxury</td>\n",
       "      <td>3279</td>\n",
       "    </tr>\n",
       "    <tr>\n",
       "      <th>20</th>\n",
       "      <td>midsize</td>\n",
       "      <td>3187</td>\n",
       "    </tr>\n",
       "    <tr>\n",
       "      <th>4</th>\n",
       "      <td>compact</td>\n",
       "      <td>3039</td>\n",
       "    </tr>\n",
       "    <tr>\n",
       "      <th>1</th>\n",
       "      <td>4dr</td>\n",
       "      <td>2771</td>\n",
       "    </tr>\n",
       "  </tbody>\n",
       "</table>\n",
       "</div>"
      ],
      "text/plain": [
       "           Word  Count\n",
       "23  performance   3456\n",
       "19       luxury   3279\n",
       "20      midsize   3187\n",
       "4       compact   3039\n",
       "1           4dr   2771"
      ]
     },
     "execution_count": 9,
     "metadata": {},
     "output_type": "execute_result"
    }
   ],
   "source": [
    "count_vec = CountVectorizer()\n",
    "count_occurs = count_vec.fit_transform([doc])\n",
    "count_occur_df = pd.DataFrame((count, word) for word, count in zip(count_occurs.toarray().tolist()[0], count_vec.get_feature_names_out()))\n",
    "count_occur_df.columns = ['Word', 'Count']\n",
    "count_occur_df.sort_values('Count', ascending=False, inplace=True)\n",
    "count_occur_df.head()"
   ]
  },
  {
   "cell_type": "code",
   "execution_count": 10,
   "id": "ff0da871-a8bf-4d93-9949-ad0ef8848a7f",
   "metadata": {},
   "outputs": [
    {
     "data": {
      "text/html": [
       "<div>\n",
       "<style scoped>\n",
       "    .dataframe tbody tr th:only-of-type {\n",
       "        vertical-align: middle;\n",
       "    }\n",
       "\n",
       "    .dataframe tbody tr th {\n",
       "        vertical-align: top;\n",
       "    }\n",
       "\n",
       "    .dataframe thead th {\n",
       "        text-align: right;\n",
       "    }\n",
       "</style>\n",
       "<table border=\"1\" class=\"dataframe\">\n",
       "  <thead>\n",
       "    <tr style=\"text-align: right;\">\n",
       "      <th></th>\n",
       "      <th>Word</th>\n",
       "      <th>Count</th>\n",
       "    </tr>\n",
       "  </thead>\n",
       "  <tbody>\n",
       "    <tr>\n",
       "      <th>23</th>\n",
       "      <td>performance</td>\n",
       "      <td>0.386670</td>\n",
       "    </tr>\n",
       "    <tr>\n",
       "      <th>19</th>\n",
       "      <td>luxury</td>\n",
       "      <td>0.366867</td>\n",
       "    </tr>\n",
       "    <tr>\n",
       "      <th>20</th>\n",
       "      <td>midsize</td>\n",
       "      <td>0.356573</td>\n",
       "    </tr>\n",
       "    <tr>\n",
       "      <th>4</th>\n",
       "      <td>compact</td>\n",
       "      <td>0.340015</td>\n",
       "    </tr>\n",
       "    <tr>\n",
       "      <th>1</th>\n",
       "      <td>4dr</td>\n",
       "      <td>0.310030</td>\n",
       "    </tr>\n",
       "  </tbody>\n",
       "</table>\n",
       "</div>"
      ],
      "text/plain": [
       "           Word     Count\n",
       "23  performance  0.386670\n",
       "19       luxury  0.366867\n",
       "20      midsize  0.356573\n",
       "4       compact  0.340015\n",
       "1           4dr  0.310030"
      ]
     },
     "execution_count": 10,
     "metadata": {},
     "output_type": "execute_result"
    }
   ],
   "source": [
    "norm_count_vec = TfidfVectorizer(use_idf=False, norm='l2')\n",
    "norm_count_occurs = norm_count_vec.fit_transform([doc])\n",
    "norm_count_occur_df = pd.DataFrame((count, word) for word, count in zip(\n",
    "    norm_count_occurs.toarray().tolist()[0], norm_count_vec.get_feature_names_out()))\n",
    "norm_count_occur_df.columns = ['Word', 'Count']\n",
    "norm_count_occur_df.sort_values('Count', ascending=False, inplace=True)\n",
    "norm_count_occur_df.head()"
   ]
  },
  {
   "cell_type": "code",
   "execution_count": 11,
   "id": "3949f3ac-a69a-4fed-879e-670aeb9cc8a4",
   "metadata": {},
   "outputs": [],
   "source": [
    "# Bag-of-Words (BoW) approach\n",
    "count_vec = CountVectorizer()\n",
    "count_occurs = count_vec.fit_transform(train_raw_df['train_text'])\n",
    "bow_feature_names = count_vec.get_feature_names_out()"
   ]
  },
  {
   "cell_type": "code",
   "execution_count": 12,
   "id": "d6a97e61-a8ae-48f8-a593-6fd7168e1a58",
   "metadata": {},
   "outputs": [
    {
     "data": {
      "text/html": [
       "<div>\n",
       "<style scoped>\n",
       "    .dataframe tbody tr th:only-of-type {\n",
       "        vertical-align: middle;\n",
       "    }\n",
       "\n",
       "    .dataframe tbody tr th {\n",
       "        vertical-align: top;\n",
       "    }\n",
       "\n",
       "    .dataframe thead th {\n",
       "        text-align: right;\n",
       "    }\n",
       "</style>\n",
       "<table border=\"1\" class=\"dataframe\">\n",
       "  <thead>\n",
       "    <tr style=\"text-align: right;\">\n",
       "      <th></th>\n",
       "      <th>Word</th>\n",
       "      <th>Count</th>\n",
       "    </tr>\n",
       "  </thead>\n",
       "  <tbody>\n",
       "    <tr>\n",
       "      <th>23</th>\n",
       "      <td>performance</td>\n",
       "      <td>0.386670</td>\n",
       "    </tr>\n",
       "    <tr>\n",
       "      <th>19</th>\n",
       "      <td>luxury</td>\n",
       "      <td>0.366867</td>\n",
       "    </tr>\n",
       "    <tr>\n",
       "      <th>20</th>\n",
       "      <td>midsize</td>\n",
       "      <td>0.356573</td>\n",
       "    </tr>\n",
       "    <tr>\n",
       "      <th>4</th>\n",
       "      <td>compact</td>\n",
       "      <td>0.340015</td>\n",
       "    </tr>\n",
       "    <tr>\n",
       "      <th>1</th>\n",
       "      <td>4dr</td>\n",
       "      <td>0.310030</td>\n",
       "    </tr>\n",
       "  </tbody>\n",
       "</table>\n",
       "</div>"
      ],
      "text/plain": [
       "           Word     Count\n",
       "23  performance  0.386670\n",
       "19       luxury  0.366867\n",
       "20      midsize  0.356573\n",
       "4       compact  0.340015\n",
       "1           4dr  0.310030"
      ]
     },
     "execution_count": 12,
     "metadata": {},
     "output_type": "execute_result"
    }
   ],
   "source": [
    "tfidf_vec = TfidfVectorizer()\n",
    "tfidf_count_occurs = tfidf_vec.fit_transform([doc])\n",
    "tfidf_count_occur_df = pd.DataFrame((count, word) for word, count in zip(\n",
    "    tfidf_count_occurs.toarray().tolist()[0], tfidf_vec.get_feature_names_out()))\n",
    "tfidf_count_occur_df.columns = ['Word', 'Count']\n",
    "tfidf_count_occur_df.sort_values('Count', ascending=False, inplace=True)\n",
    "tfidf_count_occur_df.head()"
   ]
  },
  {
   "cell_type": "markdown",
   "id": "5a870b2b-4b71-44b8-a8bb-72d44b46c7b4",
   "metadata": {},
   "source": [
    "### Word2Vec Embeddings"
   ]
  },
  {
   "cell_type": "code",
   "execution_count": 13,
   "id": "bd2fae57-d9b8-4990-b236-c1eb9de9ad0f",
   "metadata": {},
   "outputs": [],
   "source": [
    "# Tokenize the text data\n",
    "data = []\n",
    "for text in train_raw_df[\"train_text\"]:\n",
    "    tokens = word_tokenize(text.lower())\n",
    "    data.append(tokens)"
   ]
  },
  {
   "cell_type": "code",
   "execution_count": 14,
   "id": "135b8eff-caf1-4230-96b9-c71f6d652c98",
   "metadata": {},
   "outputs": [],
   "source": [
    "# Create Word2Vec model\n",
    "word2vec_model = gensim.models.Word2Vec(data, min_count=1, vector_size=100, window=5)"
   ]
  },
  {
   "cell_type": "code",
   "execution_count": 15,
   "id": "15481f0a-546a-4cb9-b351-5d421218e183",
   "metadata": {},
   "outputs": [
    {
     "name": "stdout",
     "output_type": "stream",
     "text": [
      "[',', 'luxury', 'midsize', 'compact', '4dr', 'hatchback', 'suv', 'performance', 'crossover', 'sedan', 'large', 'high-performance', 'flex', 'fuel', 'coupe', 'cab', 'pickup', 'convertible', 'tuner', 'factory', '2dr', 'exotic', 'wagon', 'crew', 'hybrid', 'diesel', 'extended', 'regular', 'passenger', 'van', 'minivan', 'cargo']\n"
     ]
    }
   ],
   "source": [
    "vocab = word2vec_model.wv.index_to_key\n",
    "print(vocab)"
   ]
  },
  {
   "cell_type": "code",
   "execution_count": 16,
   "id": "0433bea8-7f6e-4f00-9fad-b23ff60ee861",
   "metadata": {
    "scrolled": true
   },
   "outputs": [
    {
     "name": "stdout",
     "output_type": "stream",
     "text": [
      "Word Embedding for 'sedan': [ 0.22187115  0.16104817  0.05745517  0.20001909  0.0397713  -0.20779292\n",
      "  0.19662224  0.28775868 -0.13516489 -0.34410304  0.1936323  -0.08055928\n",
      "  0.11132812 -0.01060597  0.13975409  0.03598341  0.25343108 -0.02690472\n",
      " -0.12069616 -0.19445577  0.05991372 -0.10372454 -0.06741315 -0.27864054\n",
      "  0.01018045 -0.070884   -0.12606104  0.19368544  0.06050675  0.04160665\n",
      " -0.03807113 -0.11567736 -0.02542154 -0.16745104 -0.10655665  0.05398561\n",
      "  0.13367105  0.05900685  0.04471144 -0.01069998  0.05160953  0.04140455\n",
      "  0.0368476   0.10506568  0.01910705  0.08788014 -0.02926354  0.06057111\n",
      "  0.07835005  0.22645216  0.01551444  0.03482153 -0.09262227 -0.11986373\n",
      "  0.02735724 -0.03825155  0.04862401  0.10349592  0.03706342  0.07091626\n",
      " -0.1099636   0.08189918  0.04410104 -0.00217086 -0.03582961  0.30394608\n",
      "  0.0747623   0.09946655 -0.12464805 -0.11016831  0.08104701  0.0156034\n",
      "  0.17401803  0.01286027 -0.00375556 -0.02546848  0.11526553  0.15423381\n",
      "  0.02495185 -0.09023719 -0.21025953  0.1677239   0.04988531 -0.0193494\n",
      "  0.22131869 -0.07236294  0.14906992 -0.05859814  0.16734411 -0.08249543\n",
      "  0.05227721 -0.02030384  0.03180321  0.24397326  0.28425303 -0.10424795\n",
      " -0.24584885 -0.03757213  0.03896603  0.01515826]\n",
      "Word Embedding for 'hatchback': [ 0.26695952  0.2363307   0.05879654  0.20591834  0.08386527 -0.1545018\n",
      "  0.25216597  0.266154   -0.15960556 -0.35312495  0.26115224  0.00483275\n",
      "  0.17119113 -0.04005244  0.22915158  0.01405203  0.26466325  0.07588311\n",
      " -0.24803972 -0.10762957 -0.02545835 -0.21824723 -0.01991091 -0.3375251\n",
      "  0.00339926 -0.08945783 -0.03305225  0.15831348  0.0681635   0.08265604\n",
      " -0.00908921 -0.17743807 -0.06941848 -0.19146566 -0.0540977   0.0351486\n",
      "  0.12375757  0.06861313  0.09876421 -0.03510313  0.03365616  0.03162371\n",
      "  0.06925914  0.13701598  0.03828549  0.14232486  0.06554778  0.06057253\n",
      "  0.0190626   0.16926332  0.02433238 -0.02668411 -0.14934711 -0.22365548\n",
      " -0.04656538 -0.03250347  0.0201081   0.14934714  0.00649322 -0.02005742\n",
      " -0.07822763  0.11038235  0.03093398 -0.03653484 -0.05572493  0.3795024\n",
      "  0.1470483   0.14634323 -0.18783593 -0.12252595  0.05267654 -0.03876154\n",
      "  0.21617725  0.15403973 -0.07763476 -0.00789073  0.02950271  0.21406442\n",
      " -0.02026948 -0.11630309 -0.18852942  0.15481637  0.04974658 -0.11798836\n",
      "  0.2810439  -0.10535288  0.19556417 -0.10803032  0.11363118 -0.17694642\n",
      " -0.00859615 -0.10302074  0.00432708  0.2648833   0.26174492 -0.10920922\n",
      " -0.20377395 -0.08011591 -0.01770798 -0.09968822]\n"
     ]
    }
   ],
   "source": [
    "# Example of accessing Word2Vec embeddings\n",
    "\n",
    "word_embedding_hatchback = word2vec_model.wv['luxury']\n",
    "word_embedding_sedan = word2vec_model.wv['sedan']\n",
    "\n",
    "print(\"Word Embedding for 'sedan':\", word_embedding_sedan)\n",
    "print(\"Word Embedding for 'hatchback':\", word_embedding_hatchback)\n"
   ]
  },
  {
   "cell_type": "markdown",
   "id": "a890a144-cad7-4b86-af5a-b89928dae2a5",
   "metadata": {},
   "source": [
    "### Print Word2Vec embeddings"
   ]
  },
  {
   "cell_type": "code",
   "execution_count": 19,
   "id": "cfaf842c-f71c-4796-bbc2-001c99387e1f",
   "metadata": {},
   "outputs": [],
   "source": [
    "word_pairs = [('luxury', 'performance'), ('crossover', 'midsize')]\n",
    "\n",
    "# Create Word2Vec model\n",
    "word2vec_model = gensim.models.Word2Vec(data, min_count=1, vector_size=100, window=5)\n",
    "\n",
    "# Get word embedding for the word 'car'\n",
    "word_embedding = word2vec_model.wv['performance']"
   ]
  },
  {
   "cell_type": "code",
   "execution_count": 20,
   "id": "2b50bf14-0170-46fc-84b3-896752828efc",
   "metadata": {},
   "outputs": [],
   "source": [
    "# Create CBOW model\n",
    "cbow_model = gensim.models.Word2Vec(data, min_count=1, vector_size=100, window=5)"
   ]
  },
  {
   "cell_type": "code",
   "execution_count": 21,
   "id": "3d21fcc1-1c3e-4dca-a658-761fa17b51eb",
   "metadata": {},
   "outputs": [
    {
     "name": "stdout",
     "output_type": "stream",
     "text": [
      "Cosine similarity between word pairs (CBOW):\n",
      "luxury vs performance: 0.931273341178894\n",
      "crossover vs midsize: 0.9255887866020203\n"
     ]
    }
   ],
   "source": [
    "print(\"Cosine similarity between word pairs (CBOW):\")\n",
    "for pair in word_pairs:\n",
    "    similarity = cbow_model.wv.similarity(pair[0], pair[1])\n",
    "    print(f\"{pair[0]} vs {pair[1]}: {similarity}\")"
   ]
  },
  {
   "cell_type": "code",
   "execution_count": 22,
   "id": "437145ea-f53b-4268-b91d-bc21ccbab7a4",
   "metadata": {},
   "outputs": [],
   "source": [
    "# Create Skip Gram model\n",
    "skipgram_model = gensim.models.Word2Vec(data, min_count=1, vector_size=100, window=5, sg=1)"
   ]
  },
  {
   "cell_type": "code",
   "execution_count": 23,
   "id": "0a1c79f9-d503-469d-82d3-d089ab44afb7",
   "metadata": {},
   "outputs": [
    {
     "name": "stdout",
     "output_type": "stream",
     "text": [
      "\n",
      "Cosine similarity between word pairs (Skip Gram):\n",
      "luxury vs performance: 0.935371994972229\n",
      "crossover vs midsize: 0.8659140467643738\n"
     ]
    }
   ],
   "source": [
    "print(\"\\nCosine similarity between word pairs (Skip Gram):\")\n",
    "for pair in word_pairs:\n",
    "    similarity = skipgram_model.wv.similarity(pair[0], pair[1])\n",
    "    print(f\"{pair[0]} vs {pair[1]}: {similarity}\")"
   ]
  },
  {
   "cell_type": "code",
   "execution_count": 24,
   "id": "3d05d5c7-2c25-40ae-a956-9bc98ced6cbd",
   "metadata": {},
   "outputs": [
    {
     "name": "stdout",
     "output_type": "stream",
     "text": [
      "Bag-of-Words Matrix Shape: (8084, 31)\n",
      "TF-IDF Matrix Shape: (1, 31)\n",
      "Word Embedding for 'performance': [ 0.15209259  0.23022792  0.0689415   0.15205634 -0.00855451 -0.1530008\n",
      "  0.23197587  0.27179253 -0.11667452 -0.34279728  0.21484509 -0.00377729\n",
      "  0.08853536 -0.09620951  0.14410843 -0.06543184  0.12244847  0.04073054\n",
      " -0.25889403 -0.13370629 -0.06372132 -0.11119022 -0.00532859 -0.13249247\n",
      " -0.11316031 -0.10435013  0.03717854  0.07193767 -0.01127891  0.06483596\n",
      " -0.06852204 -0.21037386 -0.06454483 -0.18923186 -0.04803101  0.13725972\n",
      "  0.17189404  0.05568149  0.03045202 -0.00677226  0.10611449 -0.01877552\n",
      " -0.05495764  0.14235775  0.08138464  0.02625509  0.01014959  0.05879445\n",
      "  0.05551432  0.13927393  0.03889471 -0.05025378 -0.03333646 -0.16748255\n",
      " -0.0836678   0.0221058   0.06075554  0.04392875 -0.04927633 -0.04482803\n",
      "  0.00941699  0.09691627  0.07291638 -0.1244024  -0.00956965  0.29654428\n",
      "  0.05779937  0.16467495 -0.1664528  -0.19730972  0.07610791  0.01999597\n",
      "  0.16658075  0.127106   -0.03868491  0.12922466  0.01435925  0.19526152\n",
      " -0.01228091 -0.09698318 -0.14159006  0.13694316  0.06991288 -0.14189406\n",
      "  0.14640816 -0.07049643  0.17714883 -0.02250482  0.09395019 -0.07067037\n",
      "  0.01138177 -0.02326348 -0.04738674  0.22716689  0.3348076  -0.09490169\n",
      " -0.18803453 -0.13375352 -0.01324559 -0.12445349]\n"
     ]
    }
   ],
   "source": [
    "# Print results or further processing as needed\n",
    "print(\"Bag-of-Words Matrix Shape:\", count_occurs.shape)\n",
    "print(\"TF-IDF Matrix Shape:\", tfidf_count_occurs.shape)\n",
    "print(\"Word Embedding for 'performance':\", word_embedding)"
   ]
  },
  {
   "cell_type": "markdown",
   "id": "5a5d6c14-1b94-4798-ab88-082ddbb68cf9",
   "metadata": {},
   "source": [
    "## -------------------------------------------------"
   ]
  },
  {
   "cell_type": "code",
   "execution_count": 25,
   "id": "02d2ca4e-d782-4641-a7b8-4689bcd6a904",
   "metadata": {},
   "outputs": [
    {
     "name": "stdout",
     "output_type": "stream",
     "text": [
      "Performed by: Hrishikesh Bari || Roll No: 68\n"
     ]
    }
   ],
   "source": [
    "print(\"Performed by: Hrishikesh Bari || Roll No: 68\")"
   ]
  },
  {
   "cell_type": "code",
   "execution_count": null,
   "id": "0601073a-b1f9-45f2-91d7-5310b41f55ed",
   "metadata": {},
   "outputs": [],
   "source": []
  }
 ],
 "metadata": {
  "kernelspec": {
   "display_name": "Python 3 (ipykernel)",
   "language": "python",
   "name": "python3"
  },
  "language_info": {
   "codemirror_mode": {
    "name": "ipython",
    "version": 3
   },
   "file_extension": ".py",
   "mimetype": "text/x-python",
   "name": "python",
   "nbconvert_exporter": "python",
   "pygments_lexer": "ipython3",
   "version": "3.11.4"
  }
 },
 "nbformat": 4,
 "nbformat_minor": 5
}
