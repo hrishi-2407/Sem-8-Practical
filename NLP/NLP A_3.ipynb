{
 "cells": [
  {
   "cell_type": "code",
   "execution_count": 8,
   "id": "3026dc35-7659-4528-904b-dcbf7a4d6d7a",
   "metadata": {},
   "outputs": [],
   "source": [
    "# Importing necessary libraries\n",
    "import pandas as pd\n",
    "import pickle\n",
    "import re\n",
    "from nltk import WordNetLemmatizer, word_tokenize\n",
    "from nltk.corpus import stopwords\n",
    "from sklearn.feature_extraction.text import TfidfVectorizer\n",
    "from sklearn.preprocessing import LabelEncoder"
   ]
  },
  {
   "cell_type": "code",
   "execution_count": 9,
   "id": "75102028-35f8-402a-8685-90bf9ae3bee0",
   "metadata": {},
   "outputs": [],
   "source": [
    "# load the dataset\n",
    "with open(r'C:\\Users\\hrish\\OneDrive\\Desktop\\News_dataset.pickle', 'rb') as f:\n",
    "    news = pickle.load(f)"
   ]
  },
  {
   "cell_type": "code",
   "execution_count": 10,
   "id": "fcfdca36-bd82-4a13-b7af-a6f2733e4f27",
   "metadata": {},
   "outputs": [
    {
     "data": {
      "text/html": [
       "<div>\n",
       "<style scoped>\n",
       "    .dataframe tbody tr th:only-of-type {\n",
       "        vertical-align: middle;\n",
       "    }\n",
       "\n",
       "    .dataframe tbody tr th {\n",
       "        vertical-align: top;\n",
       "    }\n",
       "\n",
       "    .dataframe thead th {\n",
       "        text-align: right;\n",
       "    }\n",
       "</style>\n",
       "<table border=\"1\" class=\"dataframe\">\n",
       "  <thead>\n",
       "    <tr style=\"text-align: right;\">\n",
       "      <th></th>\n",
       "      <th>File_Name</th>\n",
       "      <th>Content</th>\n",
       "      <th>Category</th>\n",
       "      <th>Complete_Filename</th>\n",
       "      <th>id</th>\n",
       "      <th>News_length</th>\n",
       "    </tr>\n",
       "  </thead>\n",
       "  <tbody>\n",
       "    <tr>\n",
       "      <th>0</th>\n",
       "      <td>001.txt</td>\n",
       "      <td>Ad sales boost Time Warner profit\\r\\n\\r\\nQuart...</td>\n",
       "      <td>business</td>\n",
       "      <td>001.txt-business</td>\n",
       "      <td>1</td>\n",
       "      <td>2569</td>\n",
       "    </tr>\n",
       "    <tr>\n",
       "      <th>1</th>\n",
       "      <td>002.txt</td>\n",
       "      <td>Dollar gains on Greenspan speech\\r\\n\\r\\nThe do...</td>\n",
       "      <td>business</td>\n",
       "      <td>002.txt-business</td>\n",
       "      <td>1</td>\n",
       "      <td>2257</td>\n",
       "    </tr>\n",
       "    <tr>\n",
       "      <th>2</th>\n",
       "      <td>003.txt</td>\n",
       "      <td>Yukos unit buyer faces loan claim\\r\\n\\r\\nThe o...</td>\n",
       "      <td>business</td>\n",
       "      <td>003.txt-business</td>\n",
       "      <td>1</td>\n",
       "      <td>1557</td>\n",
       "    </tr>\n",
       "    <tr>\n",
       "      <th>3</th>\n",
       "      <td>004.txt</td>\n",
       "      <td>High fuel prices hit BA's profits\\r\\n\\r\\nBriti...</td>\n",
       "      <td>business</td>\n",
       "      <td>004.txt-business</td>\n",
       "      <td>1</td>\n",
       "      <td>2421</td>\n",
       "    </tr>\n",
       "    <tr>\n",
       "      <th>4</th>\n",
       "      <td>005.txt</td>\n",
       "      <td>Pernod takeover talk lifts Domecq\\r\\n\\r\\nShare...</td>\n",
       "      <td>business</td>\n",
       "      <td>005.txt-business</td>\n",
       "      <td>1</td>\n",
       "      <td>1575</td>\n",
       "    </tr>\n",
       "  </tbody>\n",
       "</table>\n",
       "</div>"
      ],
      "text/plain": [
       "  File_Name                                            Content  Category  \\\n",
       "0   001.txt  Ad sales boost Time Warner profit\\r\\n\\r\\nQuart...  business   \n",
       "1   002.txt  Dollar gains on Greenspan speech\\r\\n\\r\\nThe do...  business   \n",
       "2   003.txt  Yukos unit buyer faces loan claim\\r\\n\\r\\nThe o...  business   \n",
       "3   004.txt  High fuel prices hit BA's profits\\r\\n\\r\\nBriti...  business   \n",
       "4   005.txt  Pernod takeover talk lifts Domecq\\r\\n\\r\\nShare...  business   \n",
       "\n",
       "  Complete_Filename  id  News_length  \n",
       "0  001.txt-business   1         2569  \n",
       "1  002.txt-business   1         2257  \n",
       "2  003.txt-business   1         1557  \n",
       "3  004.txt-business   1         2421  \n",
       "4  005.txt-business   1         1575  "
      ]
     },
     "execution_count": 10,
     "metadata": {},
     "output_type": "execute_result"
    }
   ],
   "source": [
    "news.head()"
   ]
  },
  {
   "cell_type": "code",
   "execution_count": 11,
   "id": "ebd1fb99-bc02-497d-b493-9e25f9603b82",
   "metadata": {},
   "outputs": [
    {
     "name": "stdout",
     "output_type": "stream",
     "text": [
      "<class 'pandas.core.frame.DataFrame'>\n",
      "RangeIndex: 2225 entries, 0 to 2224\n",
      "Data columns (total 2 columns):\n",
      " #   Column    Non-Null Count  Dtype \n",
      "---  ------    --------------  ----- \n",
      " 0   Content   2225 non-null   object\n",
      " 1   Category  2225 non-null   object\n",
      "dtypes: object(2)\n",
      "memory usage: 34.9+ KB\n"
     ]
    }
   ],
   "source": [
    "df = pd.DataFrame(news, columns=['Content', 'Category'])\n",
    "df.info()"
   ]
  },
  {
   "cell_type": "markdown",
   "id": "687a0200-5943-4099-a21f-0b49960893f7",
   "metadata": {},
   "source": [
    "### Text cleaning and Tokenization"
   ]
  },
  {
   "cell_type": "code",
   "execution_count": 12,
   "id": "d91a5024-2e81-45cd-ae4e-e65a3dba8080",
   "metadata": {},
   "outputs": [],
   "source": [
    "def clean_text(text):\n",
    "    text = re.sub(r'[^\\w\\s]', '', text) # remove punctuation\n",
    "    text = text.lower() # convert to lowercase\n",
    "    tokens = word_tokenize(text) # tokenize the text\n",
    "    return tokens"
   ]
  },
  {
   "cell_type": "code",
   "execution_count": 13,
   "id": "43771137-7485-438d-ba7f-eb07e4145b03",
   "metadata": {},
   "outputs": [],
   "source": [
    "# Apply text cleaning and tokenization to each row\n",
    "df['clean_text'] = df['Content'].apply(clean_text)"
   ]
  },
  {
   "cell_type": "markdown",
   "id": "4e8af116-7d5c-42d3-9df2-6e166aa203e8",
   "metadata": {},
   "source": [
    "### lemmatization"
   ]
  },
  {
   "cell_type": "code",
   "execution_count": 14,
   "id": "9d0a53eb-b7ba-47b9-8a3e-15b6eef57c5d",
   "metadata": {},
   "outputs": [],
   "source": [
    "lemmatizer = WordNetLemmatizer()\n",
    "def lemmatize_text(tokens):\n",
    "    lemmatized_tokens = [lemmatizer.lemmatize(token) for token in tokens]\n",
    "    return lemmatized_tokens"
   ]
  },
  {
   "cell_type": "code",
   "execution_count": 16,
   "id": "6b14bbd7-1ed0-49a4-8032-03ad83c2c8e0",
   "metadata": {},
   "outputs": [],
   "source": [
    "# Apply lemmatization to each row\n",
    "df['lemmatized_text'] = df['clean_text'].apply(lemmatize_text)"
   ]
  },
  {
   "cell_type": "markdown",
   "id": "5cc73472-a5ed-465d-bc4d-b4708ea6f788",
   "metadata": {},
   "source": [
    "### Remove Stop Words"
   ]
  },
  {
   "cell_type": "code",
   "execution_count": 17,
   "id": "4f11002a-2f2c-4470-81fc-952956c6602e",
   "metadata": {},
   "outputs": [],
   "source": [
    "stop_words = set(stopwords.words('english'))\n",
    "def remove_stopwords(tokens):\n",
    "    filtered_tokens = [token for token in tokens if token not in stop_words]\n",
    "    return filtered_tokens"
   ]
  },
  {
   "cell_type": "code",
   "execution_count": 18,
   "id": "e72a4df8-d8ec-4014-a5aa-ae66d34d13a0",
   "metadata": {},
   "outputs": [],
   "source": [
    "# Apply stop words removal to each row\n",
    "df['processed_text'] = df['lemmatized_text'].apply(remove_stopwords)"
   ]
  },
  {
   "cell_type": "markdown",
   "id": "d1874819-8162-4519-8f48-5a93feeb5fc7",
   "metadata": {},
   "source": [
    "### Label Encoding"
   ]
  },
  {
   "cell_type": "code",
   "execution_count": 20,
   "id": "d5f7d55d-b22f-4aaa-85b5-c47b7d72c755",
   "metadata": {},
   "outputs": [],
   "source": [
    "le = LabelEncoder()\n",
    "df['Category_encoded'] = le.fit_transform(df['Category'])"
   ]
  },
  {
   "cell_type": "markdown",
   "id": "94e9206f-c75a-4efa-8403-0cfc1d8cae67",
   "metadata": {},
   "source": [
    "### TF-IDF"
   ]
  },
  {
   "cell_type": "code",
   "execution_count": 28,
   "id": "ec849248-654f-4b4f-b61c-2b1b0e714021",
   "metadata": {},
   "outputs": [
    {
     "data": {
      "text/html": [
       "<div>\n",
       "<style scoped>\n",
       "    .dataframe tbody tr th:only-of-type {\n",
       "        vertical-align: middle;\n",
       "    }\n",
       "\n",
       "    .dataframe tbody tr th {\n",
       "        vertical-align: top;\n",
       "    }\n",
       "\n",
       "    .dataframe thead th {\n",
       "        text-align: right;\n",
       "    }\n",
       "</style>\n",
       "<table border=\"1\" class=\"dataframe\">\n",
       "  <thead>\n",
       "    <tr style=\"text-align: right;\">\n",
       "      <th></th>\n",
       "      <th>Word</th>\n",
       "      <th>TF-IDF Score</th>\n",
       "    </tr>\n",
       "  </thead>\n",
       "  <tbody>\n",
       "    <tr>\n",
       "      <th>27401</th>\n",
       "      <td>timewarner</td>\n",
       "      <td>0.487146</td>\n",
       "    </tr>\n",
       "    <tr>\n",
       "      <th>21674</th>\n",
       "      <td>profit</td>\n",
       "      <td>0.344867</td>\n",
       "    </tr>\n",
       "    <tr>\n",
       "      <th>3442</th>\n",
       "      <td>aol</td>\n",
       "      <td>0.257683</td>\n",
       "    </tr>\n",
       "    <tr>\n",
       "      <th>29256</th>\n",
       "      <td>warner</td>\n",
       "      <td>0.210784</td>\n",
       "    </tr>\n",
       "    <tr>\n",
       "      <th>23199</th>\n",
       "      <td>revenue</td>\n",
       "      <td>0.141471</td>\n",
       "    </tr>\n",
       "  </tbody>\n",
       "</table>\n",
       "</div>"
      ],
      "text/plain": [
       "             Word  TF-IDF Score\n",
       "27401  timewarner      0.487146\n",
       "21674      profit      0.344867\n",
       "3442          aol      0.257683\n",
       "29256      warner      0.210784\n",
       "23199     revenue      0.141471"
      ]
     },
     "execution_count": 28,
     "metadata": {},
     "output_type": "execute_result"
    }
   ],
   "source": [
    "# Apply TF-IDF vectorization\n",
    "tfidf_vectorizer = TfidfVectorizer()\n",
    "tfidf_matrix = tfidf_vectorizer.fit_transform(df['processed_text_str'])\n",
    "\n",
    "# Example: To get feature names and their respective TF-IDF scores for the first document (if needed)\n",
    "feature_names = tfidf_vectorizer.get_feature_names_out()\n",
    "first_doc_features = tfidf_matrix[0].toarray().flatten()\n",
    "tfidf_scores = pd.DataFrame(first_doc_features, index=feature_names, columns=[\"TF-IDF\"])\n",
    "tfidf_scores = tfidf_scores[tfidf_scores[\"TF-IDF\"] > 0].sort_values(by=\"TF-IDF\", ascending=False)\n",
    "\n",
    "# Save TF-IDF representations to a DataFrame\n",
    "tfidf_representation_df = pd.DataFrame((count, word) for word, count in zip(\n",
    "    tfidf_matrix.toarray().tolist()[0], tfidf_vectorizer.get_feature_names_out()))\n",
    "tfidf_representation_df.columns = ['Word', 'TF-IDF Score']\n",
    "tfidf_representation_df.sort_values('TF-IDF Score', ascending=False, inplace=True)\n",
    "tfidf_representation_df.head()\n"
   ]
  },
  {
   "cell_type": "markdown",
   "id": "d1ef44c6-9f2e-4715-ae69-17d903cc3023",
   "metadata": {},
   "source": [
    "### Saving the Processed Data"
   ]
  },
  {
   "cell_type": "code",
   "execution_count": 29,
   "id": "9d4c2ca3-f40e-459d-882e-a801b1d55dbd",
   "metadata": {},
   "outputs": [],
   "source": [
    "# Save the processed data and the TF-IDF vectorizer\n",
    "with open('processed_data.pickle', 'wb') as f:\n",
    "    pickle.dump(df, f)\n",
    "with open('tfidf_vectorizer.pickle', 'wb') as f:\n",
    "    pickle.dump(tfidf_vectorizer, f)"
   ]
  },
  {
   "cell_type": "markdown",
   "id": "36e2aebb-7cd2-4d2b-ac6c-263b2c003d9f",
   "metadata": {},
   "source": [
    "## -----------------------------------"
   ]
  },
  {
   "cell_type": "code",
   "execution_count": 1,
   "id": "80efb257-81f9-45fc-ba81-baf270d9d44d",
   "metadata": {},
   "outputs": [
    {
     "name": "stdout",
     "output_type": "stream",
     "text": [
      "Performed by: Hrishikesh Bari || Roll No: 68\n"
     ]
    }
   ],
   "source": [
    "print(\"Performed by: Hrishikesh Bari || Roll No: 68\")"
   ]
  },
  {
   "cell_type": "code",
   "execution_count": null,
   "id": "8b83a1ff-0dd4-48b3-a653-f28b2c5764bf",
   "metadata": {},
   "outputs": [],
   "source": []
  }
 ],
 "metadata": {
  "kernelspec": {
   "display_name": "Python 3 (ipykernel)",
   "language": "python",
   "name": "python3"
  },
  "language_info": {
   "codemirror_mode": {
    "name": "ipython",
    "version": 3
   },
   "file_extension": ".py",
   "mimetype": "text/x-python",
   "name": "python",
   "nbconvert_exporter": "python",
   "pygments_lexer": "ipython3",
   "version": "3.11.4"
  }
 },
 "nbformat": 4,
 "nbformat_minor": 5
}
